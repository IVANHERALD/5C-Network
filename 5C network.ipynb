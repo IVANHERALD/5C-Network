{
 "cells": [
  {
   "cell_type": "code",
   "execution_count": 111,
   "id": "d83ff6db",
   "metadata": {},
   "outputs": [],
   "source": [
    "import pandas as pd"
   ]
  },
  {
   "cell_type": "code",
   "execution_count": 112,
   "id": "4f548cd9",
   "metadata": {},
   "outputs": [
    {
     "data": {
      "text/html": [
       "<div>\n",
       "<style scoped>\n",
       "    .dataframe tbody tr th:only-of-type {\n",
       "        vertical-align: middle;\n",
       "    }\n",
       "\n",
       "    .dataframe tbody tr th {\n",
       "        vertical-align: top;\n",
       "    }\n",
       "\n",
       "    .dataframe thead th {\n",
       "        text-align: right;\n",
       "    }\n",
       "</style>\n",
       "<table border=\"1\" class=\"dataframe\">\n",
       "  <thead>\n",
       "    <tr style=\"text-align: right;\">\n",
       "      <th></th>\n",
       "      <th>Date</th>\n",
       "      <th>Firm bought from</th>\n",
       "      <th>Buying price</th>\n",
       "      <th>Customer</th>\n",
       "      <th>Selling price</th>\n",
       "      <th>Quantity sold</th>\n",
       "    </tr>\n",
       "  </thead>\n",
       "  <tbody>\n",
       "    <tr>\n",
       "      <th>0</th>\n",
       "      <td>21-08-2023</td>\n",
       "      <td>Vendor6</td>\n",
       "      <td>72.11</td>\n",
       "      <td>Customer7</td>\n",
       "      <td>91.58</td>\n",
       "      <td>44</td>\n",
       "    </tr>\n",
       "    <tr>\n",
       "      <th>1</th>\n",
       "      <td>21-08-2023</td>\n",
       "      <td>Vendor4</td>\n",
       "      <td>75.08</td>\n",
       "      <td>Customer7</td>\n",
       "      <td>83.71</td>\n",
       "      <td>17</td>\n",
       "    </tr>\n",
       "    <tr>\n",
       "      <th>2</th>\n",
       "      <td>21-08-2023</td>\n",
       "      <td>Vendor7</td>\n",
       "      <td>83.93</td>\n",
       "      <td>Customer2</td>\n",
       "      <td>103.76</td>\n",
       "      <td>15</td>\n",
       "    </tr>\n",
       "    <tr>\n",
       "      <th>3</th>\n",
       "      <td>21-08-2023</td>\n",
       "      <td>Vendor7</td>\n",
       "      <td>52.01</td>\n",
       "      <td>Customer3</td>\n",
       "      <td>64.53</td>\n",
       "      <td>7</td>\n",
       "    </tr>\n",
       "    <tr>\n",
       "      <th>4</th>\n",
       "      <td>21-08-2023</td>\n",
       "      <td>Vendor2</td>\n",
       "      <td>98.91</td>\n",
       "      <td>Customer5</td>\n",
       "      <td>140.92</td>\n",
       "      <td>1</td>\n",
       "    </tr>\n",
       "  </tbody>\n",
       "</table>\n",
       "</div>"
      ],
      "text/plain": [
       "         Date Firm bought from  Buying price   Customer  Selling price  \\\n",
       "0  21-08-2023          Vendor6         72.11  Customer7          91.58   \n",
       "1  21-08-2023          Vendor4         75.08  Customer7          83.71   \n",
       "2  21-08-2023          Vendor7         83.93  Customer2         103.76   \n",
       "3  21-08-2023          Vendor7         52.01  Customer3          64.53   \n",
       "4  21-08-2023          Vendor2         98.91  Customer5         140.92   \n",
       "\n",
       "   Quantity sold  \n",
       "0             44  \n",
       "1             17  \n",
       "2             15  \n",
       "3              7  \n",
       "4              1  "
      ]
     },
     "execution_count": 112,
     "metadata": {},
     "output_type": "execute_result"
    }
   ],
   "source": [
    "df = pd.read_csv(\"sales_data_1.csv\")\n",
    "\n",
    "df.head()"
   ]
  },
  {
   "cell_type": "code",
   "execution_count": 113,
   "id": "e0d42fc0",
   "metadata": {},
   "outputs": [
    {
     "data": {
      "text/plain": [
       "Date                0\n",
       "Firm bought from    0\n",
       "Buying price        0\n",
       "Customer            0\n",
       "Selling price       0\n",
       "Quantity sold       0\n",
       "dtype: int64"
      ]
     },
     "execution_count": 113,
     "metadata": {},
     "output_type": "execute_result"
    }
   ],
   "source": [
    "df.isnull().sum()"
   ]
  },
  {
   "cell_type": "markdown",
   "id": "9d86e37c",
   "metadata": {},
   "source": [
    "## 1.What is their overall gross margin for their business?"
   ]
  },
  {
   "cell_type": "code",
   "execution_count": 114,
   "id": "a7c97d09",
   "metadata": {},
   "outputs": [
    {
     "name": "stdout",
     "output_type": "stream",
     "text": [
      "Overall Gross Margin: 31482.749999999996\n"
     ]
    }
   ],
   "source": [
    "df['Profit'] = (df['Selling price'] - df['Buying price'])* df['Quantity sold']\n",
    "overall_gross_margin = df['Profit'].sum()\n",
    "\n",
    "print(\"Overall Gross Margin:\", overall_gross_margin)"
   ]
  },
  {
   "cell_type": "markdown",
   "id": "2b78ffbf",
   "metadata": {},
   "source": [
    "## 2.Which vendor is the most profitable?"
   ]
  },
  {
   "cell_type": "code",
   "execution_count": 115,
   "id": "c33129c1",
   "metadata": {},
   "outputs": [
    {
     "name": "stdout",
     "output_type": "stream",
     "text": [
      "Most Profitable Vendor: Vendor4\n"
     ]
    }
   ],
   "source": [
    "vendor_profit = df.groupby('Firm bought from')['Profit'].sum()\n",
    "\n",
    "most_profitable_vendor = vendor_profit.idxmax()\n",
    "\n",
    "print(\"Most Profitable Vendor:\", most_profitable_vendor)\n"
   ]
  },
  {
   "cell_type": "markdown",
   "id": "19f86ea2",
   "metadata": {},
   "source": [
    "## 3.Which customer is the least profitable?"
   ]
  },
  {
   "cell_type": "code",
   "execution_count": 116,
   "id": "4ad71007",
   "metadata": {},
   "outputs": [
    {
     "name": "stdout",
     "output_type": "stream",
     "text": [
      "Least Profitable Customer: Customer3\n"
     ]
    }
   ],
   "source": [
    "customer_profit = df.groupby('Customer')['Profit'].sum()\n",
    "\n",
    "least_profitable_customer = customer_profit.idxmin()\n",
    "\n",
    "print(\"Least Profitable Customer:\", least_profitable_customer)\n"
   ]
  },
  {
   "cell_type": "markdown",
   "id": "52af5ab5",
   "metadata": {},
   "source": [
    "## 4.Which day of the week was most profitable for them?"
   ]
  },
  {
   "cell_type": "code",
   "execution_count": 117,
   "id": "f47f4736",
   "metadata": {},
   "outputs": [
    {
     "name": "stdout",
     "output_type": "stream",
     "text": [
      "Most Profitable Day of the Week: 0\n",
      "Day_of_Week\n",
      "0    6847.34\n",
      "1    3305.35\n",
      "2    4392.47\n",
      "3    4866.03\n",
      "4    3761.94\n",
      "5    5223.16\n",
      "6    3086.46\n",
      "Name: Profit, dtype: float64\n"
     ]
    }
   ],
   "source": [
    "df['Date'] = pd.to_datetime(df['Date'],format='%d-%m-%Y')\n",
    "\n",
    "df['Day_of_Week'] = df['Date'].dt.dayofweek\n",
    "\n",
    "\n",
    "day_of_week_profit = df.groupby('Day_of_Week')['Profit'].sum()\n",
    "\n",
    "most_profitable_day = day_of_week_profit.idxmax()\n",
    "\n",
    "print(\"Most Profitable Day of the Week:\", most_profitable_day)\n",
    "print(day_of_week_profit)"
   ]
  },
  {
   "cell_type": "markdown",
   "id": "138f388e",
   "metadata": {},
   "source": [
    "## 5.Which day of the week was the least profitable for them?"
   ]
  },
  {
   "cell_type": "code",
   "execution_count": 118,
   "id": "7a779bd9",
   "metadata": {},
   "outputs": [
    {
     "name": "stdout",
     "output_type": "stream",
     "text": [
      "Least Profitable Day of the Week: 6\n",
      "Day_of_Week\n",
      "0    6847.34\n",
      "1    3305.35\n",
      "2    4392.47\n",
      "3    4866.03\n",
      "4    3761.94\n",
      "5    5223.16\n",
      "6    3086.46\n",
      "Name: Profit, dtype: float64\n"
     ]
    }
   ],
   "source": [
    "df['Date'] = pd.to_datetime(df['Date'])\n",
    "\n",
    "df['Day_of_Week'] = df['Date'].dt.dayofweek\n",
    "\n",
    "day_of_week_profit = df.groupby('Day_of_Week')['Profit'].sum()\n",
    "\n",
    "most_profitable_day = day_of_week_profit.idxmin()\n",
    "\n",
    "print(\"Least Profitable Day of the Week:\", most_profitable_day)\n",
    "print(day_of_week_profit)\n"
   ]
  },
  {
   "cell_type": "markdown",
   "id": "37c3de90",
   "metadata": {},
   "source": [
    "## Quantity Information"
   ]
  },
  {
   "cell_type": "markdown",
   "id": "a5762e0a",
   "metadata": {},
   "source": [
    "## 6.Can you calculate a 3-day average of the daily gross profit from the sales_data_2.csv"
   ]
  },
  {
   "cell_type": "code",
   "execution_count": 119,
   "id": "db7d525d",
   "metadata": {},
   "outputs": [
    {
     "data": {
      "text/html": [
       "<div>\n",
       "<style scoped>\n",
       "    .dataframe tbody tr th:only-of-type {\n",
       "        vertical-align: middle;\n",
       "    }\n",
       "\n",
       "    .dataframe tbody tr th {\n",
       "        vertical-align: top;\n",
       "    }\n",
       "\n",
       "    .dataframe thead th {\n",
       "        text-align: right;\n",
       "    }\n",
       "</style>\n",
       "<table border=\"1\" class=\"dataframe\">\n",
       "  <thead>\n",
       "    <tr style=\"text-align: right;\">\n",
       "      <th></th>\n",
       "      <th>Date</th>\n",
       "      <th>Firm bought from</th>\n",
       "      <th>Buying price</th>\n",
       "      <th>Quantity bought</th>\n",
       "      <th>Customer</th>\n",
       "      <th>Selling price</th>\n",
       "      <th>Quantity sold</th>\n",
       "    </tr>\n",
       "  </thead>\n",
       "  <tbody>\n",
       "    <tr>\n",
       "      <th>0</th>\n",
       "      <td>2023-08-21</td>\n",
       "      <td>Vendor6</td>\n",
       "      <td>72.11</td>\n",
       "      <td>60</td>\n",
       "      <td>Customer7</td>\n",
       "      <td>91.58</td>\n",
       "      <td>44</td>\n",
       "    </tr>\n",
       "    <tr>\n",
       "      <th>1</th>\n",
       "      <td>2023-08-21</td>\n",
       "      <td>Vendor4</td>\n",
       "      <td>75.08</td>\n",
       "      <td>92</td>\n",
       "      <td>Customer7</td>\n",
       "      <td>83.71</td>\n",
       "      <td>17</td>\n",
       "    </tr>\n",
       "    <tr>\n",
       "      <th>2</th>\n",
       "      <td>2023-08-21</td>\n",
       "      <td>Vendor7</td>\n",
       "      <td>83.93</td>\n",
       "      <td>16</td>\n",
       "      <td>Customer2</td>\n",
       "      <td>103.76</td>\n",
       "      <td>15</td>\n",
       "    </tr>\n",
       "    <tr>\n",
       "      <th>3</th>\n",
       "      <td>2023-08-21</td>\n",
       "      <td>Vendor7</td>\n",
       "      <td>52.01</td>\n",
       "      <td>62</td>\n",
       "      <td>Customer3</td>\n",
       "      <td>64.53</td>\n",
       "      <td>7</td>\n",
       "    </tr>\n",
       "    <tr>\n",
       "      <th>4</th>\n",
       "      <td>2023-08-21</td>\n",
       "      <td>Vendor2</td>\n",
       "      <td>98.91</td>\n",
       "      <td>1</td>\n",
       "      <td>Customer5</td>\n",
       "      <td>140.92</td>\n",
       "      <td>1</td>\n",
       "    </tr>\n",
       "  </tbody>\n",
       "</table>\n",
       "</div>"
      ],
      "text/plain": [
       "         Date Firm bought from  Buying price  Quantity bought   Customer  \\\n",
       "0  2023-08-21          Vendor6         72.11               60  Customer7   \n",
       "1  2023-08-21          Vendor4         75.08               92  Customer7   \n",
       "2  2023-08-21          Vendor7         83.93               16  Customer2   \n",
       "3  2023-08-21          Vendor7         52.01               62  Customer3   \n",
       "4  2023-08-21          Vendor2         98.91                1  Customer5   \n",
       "\n",
       "   Selling price  Quantity sold  \n",
       "0          91.58             44  \n",
       "1          83.71             17  \n",
       "2         103.76             15  \n",
       "3          64.53              7  \n",
       "4         140.92              1  "
      ]
     },
     "execution_count": 119,
     "metadata": {},
     "output_type": "execute_result"
    }
   ],
   "source": [
    "df=pd.read_csv(\"sales_data_2.csv\")\n",
    "df.head()"
   ]
  },
  {
   "cell_type": "code",
   "execution_count": 120,
   "id": "6a43845f",
   "metadata": {},
   "outputs": [
    {
     "data": {
      "text/plain": [
       "Date                0\n",
       "Firm bought from    0\n",
       "Buying price        0\n",
       "Quantity bought     0\n",
       "Customer            0\n",
       "Selling price       0\n",
       "Quantity sold       0\n",
       "dtype: int64"
      ]
     },
     "execution_count": 120,
     "metadata": {},
     "output_type": "execute_result"
    }
   ],
   "source": [
    "df.isnull().sum()"
   ]
  },
  {
   "cell_type": "code",
   "execution_count": 121,
   "id": "02143bcf",
   "metadata": {},
   "outputs": [
    {
     "data": {
      "text/html": [
       "<div>\n",
       "<style scoped>\n",
       "    .dataframe tbody tr th:only-of-type {\n",
       "        vertical-align: middle;\n",
       "    }\n",
       "\n",
       "    .dataframe tbody tr th {\n",
       "        vertical-align: top;\n",
       "    }\n",
       "\n",
       "    .dataframe thead th {\n",
       "        text-align: right;\n",
       "    }\n",
       "</style>\n",
       "<table border=\"1\" class=\"dataframe\">\n",
       "  <thead>\n",
       "    <tr style=\"text-align: right;\">\n",
       "      <th></th>\n",
       "      <th>Date</th>\n",
       "      <th>Firm bought from</th>\n",
       "      <th>Buying price</th>\n",
       "      <th>Quantity bought</th>\n",
       "      <th>Customer</th>\n",
       "      <th>Selling price</th>\n",
       "      <th>Quantity sold</th>\n",
       "      <th>Profit</th>\n",
       "      <th>3-Day Avg Profit</th>\n",
       "    </tr>\n",
       "  </thead>\n",
       "  <tbody>\n",
       "    <tr>\n",
       "      <th>0</th>\n",
       "      <td>2023-08-21</td>\n",
       "      <td>Vendor6</td>\n",
       "      <td>72.11</td>\n",
       "      <td>60</td>\n",
       "      <td>Customer7</td>\n",
       "      <td>91.58</td>\n",
       "      <td>44</td>\n",
       "      <td>856.68</td>\n",
       "      <td>NaN</td>\n",
       "    </tr>\n",
       "    <tr>\n",
       "      <th>1</th>\n",
       "      <td>2023-08-21</td>\n",
       "      <td>Vendor4</td>\n",
       "      <td>75.08</td>\n",
       "      <td>92</td>\n",
       "      <td>Customer7</td>\n",
       "      <td>83.71</td>\n",
       "      <td>17</td>\n",
       "      <td>146.71</td>\n",
       "      <td>NaN</td>\n",
       "    </tr>\n",
       "    <tr>\n",
       "      <th>2</th>\n",
       "      <td>2023-08-21</td>\n",
       "      <td>Vendor7</td>\n",
       "      <td>83.93</td>\n",
       "      <td>16</td>\n",
       "      <td>Customer2</td>\n",
       "      <td>103.76</td>\n",
       "      <td>15</td>\n",
       "      <td>297.45</td>\n",
       "      <td>433.613333</td>\n",
       "    </tr>\n",
       "    <tr>\n",
       "      <th>3</th>\n",
       "      <td>2023-08-21</td>\n",
       "      <td>Vendor7</td>\n",
       "      <td>52.01</td>\n",
       "      <td>62</td>\n",
       "      <td>Customer3</td>\n",
       "      <td>64.53</td>\n",
       "      <td>7</td>\n",
       "      <td>87.64</td>\n",
       "      <td>177.266667</td>\n",
       "    </tr>\n",
       "    <tr>\n",
       "      <th>4</th>\n",
       "      <td>2023-08-21</td>\n",
       "      <td>Vendor2</td>\n",
       "      <td>98.91</td>\n",
       "      <td>1</td>\n",
       "      <td>Customer5</td>\n",
       "      <td>140.92</td>\n",
       "      <td>1</td>\n",
       "      <td>42.01</td>\n",
       "      <td>142.366667</td>\n",
       "    </tr>\n",
       "    <tr>\n",
       "      <th>...</th>\n",
       "      <td>...</td>\n",
       "      <td>...</td>\n",
       "      <td>...</td>\n",
       "      <td>...</td>\n",
       "      <td>...</td>\n",
       "      <td>...</td>\n",
       "      <td>...</td>\n",
       "      <td>...</td>\n",
       "      <td>...</td>\n",
       "    </tr>\n",
       "    <tr>\n",
       "      <th>65</th>\n",
       "      <td>2023-08-27</td>\n",
       "      <td>Vendor4</td>\n",
       "      <td>64.82</td>\n",
       "      <td>28</td>\n",
       "      <td>Customer6</td>\n",
       "      <td>87.45</td>\n",
       "      <td>18</td>\n",
       "      <td>407.34</td>\n",
       "      <td>552.863333</td>\n",
       "    </tr>\n",
       "    <tr>\n",
       "      <th>66</th>\n",
       "      <td>2023-08-27</td>\n",
       "      <td>Vendor8</td>\n",
       "      <td>88.79</td>\n",
       "      <td>14</td>\n",
       "      <td>Customer3</td>\n",
       "      <td>105.59</td>\n",
       "      <td>5</td>\n",
       "      <td>84.00</td>\n",
       "      <td>552.070000</td>\n",
       "    </tr>\n",
       "    <tr>\n",
       "      <th>67</th>\n",
       "      <td>2023-08-27</td>\n",
       "      <td>Vendor5</td>\n",
       "      <td>63.30</td>\n",
       "      <td>81</td>\n",
       "      <td>Customer5</td>\n",
       "      <td>92.92</td>\n",
       "      <td>32</td>\n",
       "      <td>947.84</td>\n",
       "      <td>479.726667</td>\n",
       "    </tr>\n",
       "    <tr>\n",
       "      <th>68</th>\n",
       "      <td>2023-08-27</td>\n",
       "      <td>Vendor5</td>\n",
       "      <td>94.06</td>\n",
       "      <td>18</td>\n",
       "      <td>Customer5</td>\n",
       "      <td>125.67</td>\n",
       "      <td>4</td>\n",
       "      <td>126.44</td>\n",
       "      <td>386.093333</td>\n",
       "    </tr>\n",
       "    <tr>\n",
       "      <th>69</th>\n",
       "      <td>2023-08-27</td>\n",
       "      <td>Vendor5</td>\n",
       "      <td>56.28</td>\n",
       "      <td>25</td>\n",
       "      <td>Customer6</td>\n",
       "      <td>82.16</td>\n",
       "      <td>1</td>\n",
       "      <td>25.88</td>\n",
       "      <td>366.720000</td>\n",
       "    </tr>\n",
       "  </tbody>\n",
       "</table>\n",
       "<p>70 rows × 9 columns</p>\n",
       "</div>"
      ],
      "text/plain": [
       "          Date Firm bought from  Buying price  Quantity bought   Customer  \\\n",
       "0   2023-08-21          Vendor6         72.11               60  Customer7   \n",
       "1   2023-08-21          Vendor4         75.08               92  Customer7   \n",
       "2   2023-08-21          Vendor7         83.93               16  Customer2   \n",
       "3   2023-08-21          Vendor7         52.01               62  Customer3   \n",
       "4   2023-08-21          Vendor2         98.91                1  Customer5   \n",
       "..         ...              ...           ...              ...        ...   \n",
       "65  2023-08-27          Vendor4         64.82               28  Customer6   \n",
       "66  2023-08-27          Vendor8         88.79               14  Customer3   \n",
       "67  2023-08-27          Vendor5         63.30               81  Customer5   \n",
       "68  2023-08-27          Vendor5         94.06               18  Customer5   \n",
       "69  2023-08-27          Vendor5         56.28               25  Customer6   \n",
       "\n",
       "    Selling price  Quantity sold  Profit  3-Day Avg Profit  \n",
       "0           91.58             44  856.68               NaN  \n",
       "1           83.71             17  146.71               NaN  \n",
       "2          103.76             15  297.45        433.613333  \n",
       "3           64.53              7   87.64        177.266667  \n",
       "4          140.92              1   42.01        142.366667  \n",
       "..            ...            ...     ...               ...  \n",
       "65          87.45             18  407.34        552.863333  \n",
       "66         105.59              5   84.00        552.070000  \n",
       "67          92.92             32  947.84        479.726667  \n",
       "68         125.67              4  126.44        386.093333  \n",
       "69          82.16              1   25.88        366.720000  \n",
       "\n",
       "[70 rows x 9 columns]"
      ]
     },
     "execution_count": 121,
     "metadata": {},
     "output_type": "execute_result"
    }
   ],
   "source": [
    "df['Profit'] = (df['Selling price'] - df['Buying price'])*df['Quantity sold']\n",
    "df['3-Day Avg Profit'] = df['Profit'].rolling(window=3).mean()\n",
    "df\n",
    "\n"
   ]
  },
  {
   "cell_type": "markdown",
   "id": "700c8c3c",
   "metadata": {},
   "source": [
    "## 7.Additionally, provide insights into how this 3-day trend changes over the time period covered in the dataset."
   ]
  },
  {
   "cell_type": "code",
   "execution_count": 122,
   "id": "4c217849",
   "metadata": {},
   "outputs": [
    {
     "data": {
      "image/png": "[encoded data removed]",
      "text/plain": [
       "<Figure size 1000x600 with 1 Axes>"
      ]
     },
     "metadata": {},
     "output_type": "display_data"
    }
   ],
   "source": [
    "import matplotlib.pyplot as plt\n",
    "plt.figure(figsize=(10, 6))\n",
    "plt.hist(df['3-Day Avg Profit'].dropna(), bins=20, edgecolor='k')\n",
    "plt.xlabel('3-Day Avg Profit')\n",
    "plt.ylabel('Frequency')\n",
    "plt.title('3-Day Average Profit Trend')\n",
    "plt.grid(True)"
   ]
  },
  {
   "cell_type": "markdown",
   "id": "450e71f6",
   "metadata": {},
   "source": [
    "## 8.Can you optimize the sales process to ensure gross margin is maximized?"
   ]
  },
  {
   "cell_type": "code",
   "execution_count": 123,
   "id": "9a71006d",
   "metadata": {},
   "outputs": [
    {
     "name": "stdout",
     "output_type": "stream",
     "text": [
      "Low-performing Vendors:\n",
      "                  Total_Revenue  Total_Cost  Gross_Margin\n",
      "Firm bought from                                         \n",
      "Vendor2                 6704.47     5407.49     19.345004\n",
      "Vendor8                 1393.84     1140.10     18.204385\n",
      "\n",
      "Low-performing Customers:\n",
      "           Total_Revenue  Total_Cost  Gross_Margin\n",
      "Customer                                          \n",
      "Customer7       12340.28    10142.66      17.80851\n"
     ]
    }
   ],
   "source": [
    "df['Total_Cost'] = df['Buying price'] * df['Quantity sold']\n",
    "df['Total_Revenue'] = df['Selling price'] * df['Quantity sold']\n",
    "\n",
    "\n",
    "vendor_totals = df.groupby('Firm bought from')[['Total_Revenue', 'Total_Cost']].sum()\n",
    "\n",
    "customer_totals = df.groupby('Customer')[['Total_Revenue', 'Total_Cost']].sum()\n",
    "\n",
    "\n",
    "vendor_totals['Gross_Margin'] = ((vendor_totals['Total_Revenue'] - vendor_totals['Total_Cost']) / vendor_totals['Total_Revenue']) * 100\n",
    "customer_totals['Gross_Margin'] = ((customer_totals['Total_Revenue'] - customer_totals['Total_Cost']) / customer_totals['Total_Revenue']) * 100\n",
    "\n",
    "\n",
    "low_vendor_threshold = 20  \n",
    "low_customer_threshold = 20\n",
    "low_performing_vendors = vendor_totals[vendor_totals['Gross_Margin'] < low_vendor_threshold]\n",
    "low_performing_customers = customer_totals[customer_totals['Gross_Margin'] < low_customer_threshold]\n",
    "\n",
    "print(\"Low-performing Vendors:\")\n",
    "print(low_performing_vendors)\n",
    "\n",
    "print(\"\\nLow-performing Customers:\")\n",
    "print(low_performing_customers)"
   ]
  },
  {
   "cell_type": "markdown",
   "id": "03db8f99",
   "metadata": {},
   "source": [
    "## 9.To ensure competitive pricing, Ram wants to benchmark their buying and selling prices against the market. Could you calculate the 25th, 50th (median), and 75th percentiles for both buying and selling prices? "
   ]
  },
  {
   "cell_type": "code",
   "execution_count": 124,
   "id": "410068bd",
   "metadata": {},
   "outputs": [
    {
     "name": "stdout",
     "output_type": "stream",
     "text": [
      "Buying Price Percentiles (25th, 50th, 75th): 0.25    29.90\n",
      "0.50    60.76\n",
      "0.75    78.32\n",
      "Name: Buying price, dtype: float64\n",
      "Selling Price Percentiles (25th, 50th, 75th): 0.25     38.9750\n",
      "0.50     78.9900\n",
      "0.75    103.3975\n",
      "Name: Selling price, dtype: float64\n"
     ]
    }
   ],
   "source": [
    "buying_price_percentiles = df['Buying price'].quantile([0.25, 0.5, 0.75])\n",
    "selling_price_percentiles = df['Selling price'].quantile([0.25, 0.5, 0.75])\n",
    "\n",
    "print(\"Buying Price Percentiles (25th, 50th, 75th):\", buying_price_percentiles)\n",
    "print(\"Selling Price Percentiles (25th, 50th, 75th):\", selling_price_percentiles)\n"
   ]
  },
  {
   "cell_type": "markdown",
   "id": "546cfc78",
   "metadata": {},
   "source": [
    "## 10.Additionally, analyze how often the Sapota’s prices fall below the 25th percentile or above the 75th percentile, potentially indicating they are buying at a high price or selling at a low price relative to their own transaction history."
   ]
  },
  {
   "cell_type": "code",
   "execution_count": 125,
   "id": "496d75a4",
   "metadata": {},
   "outputs": [
    {
     "name": "stdout",
     "output_type": "stream",
     "text": [
      "Number of transactions below 25th percentile for buying price: 18\n",
      "Number of transactions above 75th percentile for selling price: 18\n"
     ]
    }
   ],
   "source": [
    "below_25th_buying = len(df[df['Buying price'] < buying_price_percentiles[0.25]])\n",
    "above_75th_selling = len(df[df['Selling price'] > selling_price_percentiles[0.75]])\n",
    "\n",
    "print(\"Number of transactions below 25th percentile for buying price:\", below_25th_buying)\n",
    "print(\"Number of transactions above 75th percentile for selling price:\", above_75th_selling)\n"
   ]
  },
  {
   "cell_type": "markdown",
   "id": "1020199d",
   "metadata": {},
   "source": [
    "## 11.Bharath says that Vendor 4 has to be honored.  What impact does it have on your optimal gross margin? "
   ]
  },
  {
   "cell_type": "code",
   "execution_count": 126,
   "id": "f96d5a2c",
   "metadata": {},
   "outputs": [
    {
     "name": "stdout",
     "output_type": "stream",
     "text": [
      "Impact on Gross Margin by Honoring Vendor 4: 0.0\n"
     ]
    }
   ],
   "source": [
    "df['Profit'] = (df['Buying price'] - df['Selling price'])\n",
    "initial_gross_margin = df['Profit'].sum()\n",
    "vendor4_data = df[df['Firm bought from'] == 'Vendor 4']\n",
    "new_gross_margin = initial_gross_margin + vendor4_data['Profit'].sum()\n",
    "impact_on_gross_margin = new_gross_margin - initial_gross_margin\n",
    "print(\"Impact on Gross Margin by Honoring Vendor 4:\", impact_on_gross_margin)"
   ]
  },
  {
   "cell_type": "markdown",
   "id": "a9e18330",
   "metadata": {},
   "source": [
    "## 12.Which vendor should we have a strategic tie up so that we source only from them (the goal here is to have the highest gross margin)"
   ]
  },
  {
   "cell_type": "code",
   "execution_count": 127,
   "id": "787ffc30",
   "metadata": {},
   "outputs": [
    {
     "name": "stdout",
     "output_type": "stream",
     "text": [
      "Vendor with Highest Gross Margin: Vendor6\n"
     ]
    },
    {
     "data": {
      "text/plain": [
       "Firm bought from\n",
       "Vendor1     -53.23\n",
       "Vendor10    -82.58\n",
       "Vendor2    -161.11\n",
       "Vendor3    -165.18\n",
       "Vendor4    -170.11\n",
       "Vendor5    -116.98\n",
       "Vendor6     -32.11\n",
       "Vendor7    -224.98\n",
       "Vendor8     -35.66\n",
       "Vendor9    -165.26\n",
       "Name: Profit, dtype: float64"
      ]
     },
     "execution_count": 127,
     "metadata": {},
     "output_type": "execute_result"
    }
   ],
   "source": [
    "vendor_profit = df.groupby('Firm bought from')['Profit'].sum()\n",
    "\n",
    "highest_profit_vendor = vendor_profit.idxmax()\n",
    "\n",
    "print(\"Vendor with Highest Gross Margin:\", highest_profit_vendor)\n",
    "vendor_profit"
   ]
  },
  {
   "cell_type": "markdown",
   "id": "2c259f23",
   "metadata": {},
   "source": [
    "## 13.Given this is the ground truth, what is the price elasticity of Sapota for that branch? (If you increase by Rs.1, how much sales will go up/down and if you decrease price by Rs. 1, how much sales will go up/down) "
   ]
  },
  {
   "cell_type": "code",
   "execution_count": 128,
   "id": "78b52271",
   "metadata": {},
   "outputs": [
    {
     "name": "stdout",
     "output_type": "stream",
     "text": [
      "0     856.68\n",
      "1     146.71\n",
      "2     297.45\n",
      "3      87.64\n",
      "4      42.01\n",
      "       ...  \n",
      "65    407.34\n",
      "66     84.00\n",
      "67    947.84\n",
      "68    126.44\n",
      "69     25.88\n",
      "Length: 70, dtype: float64\n",
      "31482.749999999996\n",
      "Price Elasticity: 0.0\n"
     ]
    }
   ],
   "source": [
    "initial_quantity_sold = df['Quantity sold'].sum()\n",
    "initial_gross_profit = (df['Selling price'] - df['Buying price']) * df['Quantity sold']\n",
    "print(initial_gross_profit)\n",
    "initial_gross_profit = initial_gross_profit.sum()\n",
    "print(initial_gross_profit)\n",
    "\n",
    "price_change = 1\n",
    "df['New Selling price'] = df['Selling price'] + price_change\n",
    "new_quantity_sold = df['Quantity sold'].sum()\n",
    "new_gross_profit = (df['New Selling price'] - df['Buying price']) * df['Quantity sold']\n",
    "new_gross_profit = new_gross_profit.sum()\n",
    "percentage_change_in_quantity = ((new_quantity_sold - initial_quantity_sold) / initial_quantity_sold) * 100\n",
    "percentage_change_in_price = (price_change / df['Selling price'].mean()) * 100\n",
    "price_elasticity = percentage_change_in_quantity / percentage_change_in_price\n",
    "print(f\"Price Elasticity: {price_elasticity}\")\n"
   ]
  },
  {
   "cell_type": "code",
   "execution_count": null,
   "id": "c5ac78ef",
   "metadata": {},
   "outputs": [],
   "source": []
  }
 ],
 "metadata": {
  "kernelspec": {
   "display_name": "Python 3 (ipykernel)",
   "language": "python",
   "name": "python3"
  },
  "language_info": {
   "codemirror_mode": {
    "name": "ipython",
    "version": 3
   },
   "file_extension": ".py",
   "mimetype": "text/x-python",
   "name": "python",
   "nbconvert_exporter": "python",
   "pygments_lexer": "ipython3",
   "version": "3.9.13"
  }
 },
 "nbformat": 4,
 "nbformat_minor": 5
}
